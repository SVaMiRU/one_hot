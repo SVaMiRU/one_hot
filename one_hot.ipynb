{
  "nbformat": 4,
  "nbformat_minor": 0,
  "metadata": {
    "colab": {
      "provenance": [],
      "toc_visible": true,
      "authorship_tag": "ABX9TyNbIt6cFJ+Ajn7oFNOv36P7",
      "include_colab_link": true
    },
    "kernelspec": {
      "name": "python3",
      "display_name": "Python 3"
    },
    "language_info": {
      "name": "python"
    }
  },
  "cells": [
    {
      "cell_type": "markdown",
      "metadata": {
        "id": "view-in-github",
        "colab_type": "text"
      },
      "source": [
        "<a href=\"https://colab.research.google.com/github/SVaMiRU/one_hot/blob/main/one_hot.ipynb\" target=\"_parent\"><img src=\"https://colab.research.google.com/assets/colab-badge.svg\" alt=\"Open In Colab\"/></a>"
      ]
    },
    {
      "cell_type": "code",
      "execution_count": 3,
      "metadata": {
        "colab": {
          "base_uri": "https://localhost:8080/"
        },
        "id": "wdEkuQeCqxfR",
        "outputId": "9ffc6e32-9606-4fcf-9b09-f49ef0599e86"
      },
      "outputs": [
        {
          "output_type": "stream",
          "name": "stdout",
          "text": [
            "Исходные данные:\n",
            "  whoAmI\n",
            "0  robot\n",
            "1  robot\n",
            "2  human\n",
            "3  human\n",
            "4  robot\n",
            "\n",
            "Результат преобразования в one-hot encoding:\n",
            "   robot  human\n",
            "0      1      0\n",
            "1      1      0\n",
            "2      0      1\n",
            "3      0      1\n",
            "4      1      0\n"
          ]
        }
      ],
      "source": [
        "import pandas as pd\n",
        "import random\n",
        "\n",
        "# В ячейке ниже представлен код генерирующий DataFrame,\n",
        "# которая состоит всего из 1 столбца.\n",
        "# Ваша задача перевести его в one hot вид.\n",
        "# Сможете ли вы это сделать без get_dummies?\n",
        "\n",
        "# import random\n",
        "# lst = ['robot'] * 10\n",
        "# lst += ['human'] * 10\n",
        "# random.shuffle(lst)\n",
        "# data = pd.DataFrame({'whoAmI':lst})\n",
        "# data.head()\n",
        "\n",
        "# Исходные данные\n",
        "lst = ['robot'] * 10\n",
        "lst += ['human'] * 10\n",
        "random.shuffle(lst)\n",
        "data = pd.DataFrame({'whoAmI': lst})\n",
        "print(\"Исходные данные:\")\n",
        "print(data.head())\n",
        "\n",
        "# Преобразование в one-hot encoding\n",
        "unique_labels = data['whoAmI'].unique()\n",
        "\n",
        "for label in unique_labels:\n",
        "    data[label] = (data['whoAmI'] == label).astype(int)\n",
        "\n",
        "data = data.drop('whoAmI', axis=1)\n",
        "print(\"\\nРезультат преобразования в one-hot encoding:\")\n",
        "print(data.head())"
      ]
    }
  ]
}